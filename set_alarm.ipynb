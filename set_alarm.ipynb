{
 "cells": [
  {
   "cell_type": "code",
   "execution_count": null,
   "id": "c90fee15",
   "metadata": {},
   "outputs": [],
   "source": []
  },
  {
   "cell_type": "markdown",
   "id": "f2f2dc4a",
   "metadata": {},
   "source": [
    "As the title suggests, our task here is to write a python script that creates an alarm clock. For this task, I will be using the DateTime module in Python to create an alarm clock and the sound library in Python to play the alarm sound.\n",
    "\n",
    "The DateTime module comes preinstalled in the Python programming language so you can easily import it in your program. The playsound library can be easily installed by using a pip command; pip install playsound. I hope you will be able to install it in your systems, now let’s see how to write a program to create an alarm with Python.\n",
    "\n",
    "## How to write a program?\n",
    "\n",
    "Before writing the program you should know that you also need an alarm tone which will ring at the time of the alarm. So you can download an alarm tune from any of your favourite links. Now as we are ready with the libraries and the alarm song, let’s see how to write a program to create an alarm clock with Python:"
   ]
  },
  {
   "cell_type": "code",
   "execution_count": 65,
   "id": "4cf5df26",
   "metadata": {},
   "outputs": [],
   "source": [
    "# !pip install playsound"
   ]
  },
  {
   "cell_type": "code",
   "execution_count": 1,
   "id": "e8b49dcb",
   "metadata": {},
   "outputs": [
    {
     "name": "stdout",
     "output_type": "stream",
     "text": [
      "Enter the time of alarm to be set:HH:MM:SS AM/PM\n",
      "10:07:05 PM\n",
      "Setting up alarm..\n",
      "Wake Up!\n"
     ]
    }
   ],
   "source": [
    "from datetime import datetime   \n",
    "from playsound import playsound\n",
    "alarm_time = input(\"Enter the time of alarm to be set:HH:MM:SS AM/PM\\n\")\n",
    "alarm_hour=alarm_time[0:2]\n",
    "alarm_minute=alarm_time[3:5]\n",
    "alarm_seconds=alarm_time[6:8]\n",
    "alarm_period = alarm_time[9:11].upper()\n",
    "print(\"Setting up alarm..\")\n",
    "while True:\n",
    "    now = datetime.now()\n",
    "    current_hour = now.strftime(\"%I\")\n",
    "    current_minute = now.strftime(\"%M\")\n",
    "    current_seconds = now.strftime(\"%S\")\n",
    "    current_period = now.strftime(\"%p\")\n",
    "    if(alarm_period==current_period):\n",
    "        if(alarm_hour==current_hour):\n",
    "            if(alarm_minute==current_minute):\n",
    "                if(alarm_seconds==current_seconds):\n",
    "                    print(\"Wake Up!\")\n",
    "                    playsound('<location>/Music/soft-piano-100-bpm-121529.mp3')\n",
    "                    break"
   ]
  },
  {
   "cell_type": "markdown",
   "id": "d1968923",
   "metadata": {},
   "source": [
    "The user input should be in a format of hours: minutes: and then seconds. You will start listening to the song as you will reach the time that has been set. To test your code set the time 2 or 3 minutes later from the time you are giving the user input. \n",
    "\n",
    "### Summary\n",
    "This idea can be implemented in software applications also, so you now have an idea of what can be a good Python project other than just designing the User interface of an application."
   ]
  },
  {
   "cell_type": "code",
   "execution_count": null,
   "id": "7973605a",
   "metadata": {},
   "outputs": [],
   "source": []
  }
 ],
 "metadata": {
  "kernelspec": {
   "display_name": "Python 3 (ipykernel)",
   "language": "python",
   "name": "python3"
  },
  "language_info": {
   "codemirror_mode": {
    "name": "ipython",
    "version": 3
   },
   "file_extension": ".py",
   "mimetype": "text/x-python",
   "name": "python",
   "nbconvert_exporter": "python",
   "pygments_lexer": "ipython3",
   "version": "3.9.12"
  }
 },
 "nbformat": 4,
 "nbformat_minor": 5
}
